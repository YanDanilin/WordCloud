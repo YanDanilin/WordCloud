{
 "cells": [
  {
   "cell_type": "code",
   "execution_count": 60,
   "id": "2cd54c5a",
   "metadata": {},
   "outputs": [],
   "source": [
    "import pandas as pd\n",
    "import os"
   ]
  },
  {
   "cell_type": "code",
   "execution_count": 61,
   "id": "7185919e",
   "metadata": {},
   "outputs": [],
   "source": [
    "data_directory = r'D:\\AtomicHackData'"
   ]
  },
  {
   "cell_type": "code",
   "execution_count": 45,
   "id": "c60c765d",
   "metadata": {},
   "outputs": [],
   "source": [
    "alphabet_ru = [chr(alpha) for alpha in range(ord('а'), ord('а')+33)]"
   ]
  },
  {
   "cell_type": "code",
   "execution_count": 46,
   "id": "105c5363",
   "metadata": {},
   "outputs": [],
   "source": [
    "alphabet_ru = alphabet_ru[:-1]"
   ]
  },
  {
   "cell_type": "code",
   "execution_count": 47,
   "id": "9bfc189a",
   "metadata": {},
   "outputs": [],
   "source": [
    "each_letter_dataset = {}"
   ]
  },
  {
   "cell_type": "code",
   "execution_count": 48,
   "id": "0674d772",
   "metadata": {},
   "outputs": [],
   "source": [
    "synonyms_dataset = pd.DataFrame()"
   ]
  },
  {
   "cell_type": "code",
   "execution_count": 62,
   "id": "86f34887",
   "metadata": {},
   "outputs": [],
   "source": [
    "columns = ['word', 'synonyms', 'synonyms_count']"
   ]
  },
  {
   "cell_type": "code",
   "execution_count": 63,
   "id": "faf09767",
   "metadata": {},
   "outputs": [],
   "source": [
    "for alpha in alphabet_ru:\n",
    "    dirname = data_directory + '\\\\' + alpha\n",
    "    letter_dataset = pd.DataFrame()\n",
    "    for fname in os.listdir(dirname):\n",
    "        data = pd.read_json(dirname+'\\\\'+fname)\n",
    "        if data.columns.to_list() == columns:\n",
    "            letter_dataset = pd.concat((letter_dataset, data), ignore_index=True)\n",
    "        else:\n",
    "            df_t = data.transpose()\n",
    "            df1 = pd.DataFrame(columns=columns)\n",
    "            df1['word'] = df_t.index\n",
    "            df1['synonyms'] = df_t['synonyms'].values\n",
    "            df1['synonyms_count'] = df_t['synonyms_count'].values\n",
    "            letter_dataset = pd.concat((letter_dataset, df1), ignore_index=True)\n",
    "    each_letter_dataset[alpha] = letter_dataset\n",
    "    letter_dataset.to_json(f'D:\\AtomicHackData\\letters_datasets\\{alpha}.json', force_ascii=False)"
   ]
  },
  {
   "cell_type": "code",
   "execution_count": 56,
   "id": "fa271c4c",
   "metadata": {},
   "outputs": [],
   "source": [
    "for df in each_letter_dataset.values():\n",
    "    synonyms_dataset = pd.concat((synonyms_dataset, df), ignore_index=True)"
   ]
  },
  {
   "cell_type": "code",
   "execution_count": 58,
   "id": "49749911",
   "metadata": {},
   "outputs": [
    {
     "data": {
      "text/html": [
       "<div>\n",
       "<style scoped>\n",
       "    .dataframe tbody tr th:only-of-type {\n",
       "        vertical-align: middle;\n",
       "    }\n",
       "\n",
       "    .dataframe tbody tr th {\n",
       "        vertical-align: top;\n",
       "    }\n",
       "\n",
       "    .dataframe thead th {\n",
       "        text-align: right;\n",
       "    }\n",
       "</style>\n",
       "<table border=\"1\" class=\"dataframe\">\n",
       "  <thead>\n",
       "    <tr style=\"text-align: right;\">\n",
       "      <th></th>\n",
       "      <th>word</th>\n",
       "      <th>synonyms</th>\n",
       "      <th>synonyms_count</th>\n",
       "    </tr>\n",
       "  </thead>\n",
       "  <tbody>\n",
       "    <tr>\n",
       "      <th>0</th>\n",
       "      <td>а</td>\n",
       "      <td>[однако, но, напротив, ась, да, следовательно,...</td>\n",
       "      <td>21</td>\n",
       "    </tr>\n",
       "    <tr>\n",
       "      <th>1</th>\n",
       "      <td>а по часам</td>\n",
       "      <td>[быстро, аллюром (три креста)]</td>\n",
       "      <td>2</td>\n",
       "    </tr>\n",
       "    <tr>\n",
       "      <th>2</th>\n",
       "      <td>а-дато</td>\n",
       "      <td>[число, адато]</td>\n",
       "      <td>2</td>\n",
       "    </tr>\n",
       "    <tr>\n",
       "      <th>3</th>\n",
       "      <td>а-капелла</td>\n",
       "      <td>[без музыкального сопровождения]</td>\n",
       "      <td>1</td>\n",
       "    </tr>\n",
       "    <tr>\n",
       "      <th>4</th>\n",
       "      <td>а-конто</td>\n",
       "      <td>[платеж, в счет]</td>\n",
       "      <td>2</td>\n",
       "    </tr>\n",
       "    <tr>\n",
       "      <th>...</th>\n",
       "      <td>...</td>\n",
       "      <td>...</td>\n",
       "      <td>...</td>\n",
       "    </tr>\n",
       "    <tr>\n",
       "      <th>349339</th>\n",
       "      <td>ящурка</td>\n",
       "      <td>[ящерица, ящерка]</td>\n",
       "      <td>2</td>\n",
       "    </tr>\n",
       "    <tr>\n",
       "      <th>349340</th>\n",
       "      <td>ящурный</td>\n",
       "      <td>[зараженный ящуром]</td>\n",
       "      <td>1</td>\n",
       "    </tr>\n",
       "    <tr>\n",
       "      <th>349341</th>\n",
       "      <td>яя</td>\n",
       "      <td>[автор, город, мы, лодка, её, река, эго, посел...</td>\n",
       "      <td>33</td>\n",
       "    </tr>\n",
       "    <tr>\n",
       "      <th>349342</th>\n",
       "      <td>яяма</td>\n",
       "      <td>[город]</td>\n",
       "      <td>1</td>\n",
       "    </tr>\n",
       "    <tr>\n",
       "      <th>349343</th>\n",
       "      <td>яяти</td>\n",
       "      <td>[персонаж, царь]</td>\n",
       "      <td>2</td>\n",
       "    </tr>\n",
       "  </tbody>\n",
       "</table>\n",
       "<p>349344 rows × 3 columns</p>\n",
       "</div>"
      ],
      "text/plain": [
       "              word                                           synonyms  \\\n",
       "0                а  [однако, но, напротив, ась, да, следовательно,...   \n",
       "1       а по часам                     [быстро, аллюром (три креста)]   \n",
       "2           а-дато                                     [число, адато]   \n",
       "3        а-капелла                   [без музыкального сопровождения]   \n",
       "4          а-конто                                   [платеж, в счет]   \n",
       "...            ...                                                ...   \n",
       "349339      ящурка                                  [ящерица, ящерка]   \n",
       "349340     ящурный                                [зараженный ящуром]   \n",
       "349341          яя  [автор, город, мы, лодка, её, река, эго, посел...   \n",
       "349342        яяма                                            [город]   \n",
       "349343        яяти                                   [персонаж, царь]   \n",
       "\n",
       "       synonyms_count  \n",
       "0                  21  \n",
       "1                   2  \n",
       "2                   2  \n",
       "3                   1  \n",
       "4                   2  \n",
       "...               ...  \n",
       "349339              2  \n",
       "349340              1  \n",
       "349341             33  \n",
       "349342              1  \n",
       "349343              2  \n",
       "\n",
       "[349344 rows x 3 columns]"
      ]
     },
     "execution_count": 58,
     "metadata": {},
     "output_type": "execute_result"
    }
   ],
   "source": [
    "synonyms_dataset"
   ]
  },
  {
   "cell_type": "code",
   "execution_count": 70,
   "id": "3a4fafd1",
   "metadata": {},
   "outputs": [],
   "source": [
    "final_dataset = pd.concat((df1, each_letter_dataset['з'], each_letter_dataset['с']), ignore_index=True)"
   ]
  },
  {
   "cell_type": "code",
   "execution_count": 75,
   "id": "039f05c4",
   "metadata": {},
   "outputs": [],
   "source": [
    "final_dataset.to_json('D:\\AtomicHackData\\\\ru_syn_dataset.json', force_ascii=False)"
   ]
  }
 ],
 "metadata": {
  "kernelspec": {
   "display_name": "Python 3 (ipykernel)",
   "language": "python",
   "name": "python3"
  },
  "language_info": {
   "codemirror_mode": {
    "name": "ipython",
    "version": 3
   },
   "file_extension": ".py",
   "mimetype": "text/x-python",
   "name": "python",
   "nbconvert_exporter": "python",
   "pygments_lexer": "ipython3",
   "version": "3.11.5"
  }
 },
 "nbformat": 4,
 "nbformat_minor": 5
}
