{
  "cells": [
    {
      "cell_type": "code",
      "execution_count": null,
      "metadata": {
        "id": "QIrmhHXXNyOb"
      },
      "outputs": [],
      "source": [
        "import gensim\n",
        "from gensim.models import FastText\n",
        "\n",
        "import pandas as pd\n",
        "import numpy as np\n",
        "import random\n"
      ]
    },
    {
      "cell_type": "markdown",
      "metadata": {
        "id": "vozXTqSIOSpu"
      },
      "source": [
        "## Preparing dataset for FastText vectorization\n",
        "------------------------"
      ]
    },
    {
      "cell_type": "code",
      "execution_count": null,
      "metadata": {
        "id": "Xz3VkM79Oxd0"
      },
      "outputs": [],
      "source": [
        "fpath = '/content/ru_syn_dataset_mod1.json'"
      ]
    },
    {
      "cell_type": "code",
      "execution_count": null,
      "metadata": {
        "id": "LACvOK1AOSeh"
      },
      "outputs": [],
      "source": [
        "df = pd.read_json(fpath)"
      ]
    },
    {
      "cell_type": "code",
      "execution_count": null,
      "metadata": {
        "colab": {
          "base_uri": "https://localhost:8080/",
          "height": 424
        },
        "id": "h6VnlFsEPFzt",
        "outputId": "cc13faea-1151-41b6-ead2-24b26d5eeead"
      },
      "outputs": [
        {
          "data": {
            "application/vnd.google.colaboratory.intrinsic+json": {
              "type": "dataframe",
              "variable_name": "df"
            },
            "text/html": [
              "\n",
              "  <div id=\"df-110a718b-792a-4b33-96ed-cbc7ddfe75ae\" class=\"colab-df-container\">\n",
              "    <div>\n",
              "<style scoped>\n",
              "    .dataframe tbody tr th:only-of-type {\n",
              "        vertical-align: middle;\n",
              "    }\n",
              "\n",
              "    .dataframe tbody tr th {\n",
              "        vertical-align: top;\n",
              "    }\n",
              "\n",
              "    .dataframe thead th {\n",
              "        text-align: right;\n",
              "    }\n",
              "</style>\n",
              "<table border=\"1\" class=\"dataframe\">\n",
              "  <thead>\n",
              "    <tr style=\"text-align: right;\">\n",
              "      <th></th>\n",
              "      <th>word</th>\n",
              "      <th>synonyms</th>\n",
              "      <th>synonyms_count</th>\n",
              "      <th>word_clear</th>\n",
              "      <th>synonyms_clear</th>\n",
              "    </tr>\n",
              "  </thead>\n",
              "  <tbody>\n",
              "    <tr>\n",
              "      <th>0</th>\n",
              "      <td>10-разрядный</td>\n",
              "      <td>[десятиразрядный]</td>\n",
              "      <td>1</td>\n",
              "      <td>10-разрядный</td>\n",
              "      <td>[десятиразрядный]</td>\n",
              "    </tr>\n",
              "    <tr>\n",
              "      <th>1</th>\n",
              "      <td>12-разрядный</td>\n",
              "      <td>[двенадцатиразрядный]</td>\n",
              "      <td>1</td>\n",
              "      <td>12-разрядный</td>\n",
              "      <td>[двенадцатиразрядный]</td>\n",
              "    </tr>\n",
              "    <tr>\n",
              "      <th>2</th>\n",
              "      <td>128-разрядный</td>\n",
              "      <td>[стодвадцативосьмиразрядный]</td>\n",
              "      <td>1</td>\n",
              "      <td>128-разрядный</td>\n",
              "      <td>[стодвадцативосьмиразрядный]</td>\n",
              "    </tr>\n",
              "    <tr>\n",
              "      <th>3</th>\n",
              "      <td>14-разрядный</td>\n",
              "      <td>[четырнадцатиразрядный]</td>\n",
              "      <td>1</td>\n",
              "      <td>14-разрядный</td>\n",
              "      <td>[четырнадцатиразрядный]</td>\n",
              "    </tr>\n",
              "    <tr>\n",
              "      <th>4</th>\n",
              "      <td>16-разрядный</td>\n",
              "      <td>[шестнадцатиразрядный]</td>\n",
              "      <td>1</td>\n",
              "      <td>16-разрядный</td>\n",
              "      <td>[шестнадцатиразрядный]</td>\n",
              "    </tr>\n",
              "    <tr>\n",
              "      <th>...</th>\n",
              "      <td>...</td>\n",
              "      <td>...</td>\n",
              "      <td>...</td>\n",
              "      <td>...</td>\n",
              "      <td>...</td>\n",
              "    </tr>\n",
              "    <tr>\n",
              "      <th>337355</th>\n",
              "      <td>ётёх</td>\n",
              "      <td>[развалины, брошенный дом]</td>\n",
              "      <td>2</td>\n",
              "      <td>ётёх</td>\n",
              "      <td>[развалины, брошенный-дом]</td>\n",
              "    </tr>\n",
              "    <tr>\n",
              "      <th>337356</th>\n",
              "      <td>ёухикко</td>\n",
              "      <td>[инструмент]</td>\n",
              "      <td>1</td>\n",
              "      <td>ёухикко</td>\n",
              "      <td>[инструмент]</td>\n",
              "    </tr>\n",
              "    <tr>\n",
              "      <th>337357</th>\n",
              "      <td>ёфикатор</td>\n",
              "      <td>[ёделя, ёдельник]</td>\n",
              "      <td>2</td>\n",
              "      <td>ёфикатор</td>\n",
              "      <td>[ёделя, ёдельник]</td>\n",
              "    </tr>\n",
              "    <tr>\n",
              "      <th>337358</th>\n",
              "      <td>ёхнувший</td>\n",
              "      <td>[сдвинувший]</td>\n",
              "      <td>1</td>\n",
              "      <td>ёхнувший</td>\n",
              "      <td>[сдвинувший]</td>\n",
              "    </tr>\n",
              "    <tr>\n",
              "      <th>337359</th>\n",
              "      <td>ёхор</td>\n",
              "      <td>[танец]</td>\n",
              "      <td>1</td>\n",
              "      <td>ёхор</td>\n",
              "      <td>[танец]</td>\n",
              "    </tr>\n",
              "  </tbody>\n",
              "</table>\n",
              "<p>337360 rows × 5 columns</p>\n",
              "</div>\n",
              "    <div class=\"colab-df-buttons\">\n",
              "\n",
              "  <div class=\"colab-df-container\">\n",
              "    <button class=\"colab-df-convert\" onclick=\"convertToInteractive('df-110a718b-792a-4b33-96ed-cbc7ddfe75ae')\"\n",
              "            title=\"Convert this dataframe to an interactive table.\"\n",
              "            style=\"display:none;\">\n",
              "\n",
              "  <svg xmlns=\"http://www.w3.org/2000/svg\" height=\"24px\" viewBox=\"0 -960 960 960\">\n",
              "    <path d=\"M120-120v-720h720v720H120Zm60-500h600v-160H180v160Zm220 220h160v-160H400v160Zm0 220h160v-160H400v160ZM180-400h160v-160H180v160Zm440 0h160v-160H620v160ZM180-180h160v-160H180v160Zm440 0h160v-160H620v160Z\"/>\n",
              "  </svg>\n",
              "    </button>\n",
              "\n",
              "  <style>\n",
              "    .colab-df-container {\n",
              "      display:flex;\n",
              "      gap: 12px;\n",
              "    }\n",
              "\n",
              "    .colab-df-convert {\n",
              "      background-color: #E8F0FE;\n",
              "      border: none;\n",
              "      border-radius: 50%;\n",
              "      cursor: pointer;\n",
              "      display: none;\n",
              "      fill: #1967D2;\n",
              "      height: 32px;\n",
              "      padding: 0 0 0 0;\n",
              "      width: 32px;\n",
              "    }\n",
              "\n",
              "    .colab-df-convert:hover {\n",
              "      background-color: #E2EBFA;\n",
              "      box-shadow: 0px 1px 2px rgba(60, 64, 67, 0.3), 0px 1px 3px 1px rgba(60, 64, 67, 0.15);\n",
              "      fill: #174EA6;\n",
              "    }\n",
              "\n",
              "    .colab-df-buttons div {\n",
              "      margin-bottom: 4px;\n",
              "    }\n",
              "\n",
              "    [theme=dark] .colab-df-convert {\n",
              "      background-color: #3B4455;\n",
              "      fill: #D2E3FC;\n",
              "    }\n",
              "\n",
              "    [theme=dark] .colab-df-convert:hover {\n",
              "      background-color: #434B5C;\n",
              "      box-shadow: 0px 1px 3px 1px rgba(0, 0, 0, 0.15);\n",
              "      filter: drop-shadow(0px 1px 2px rgba(0, 0, 0, 0.3));\n",
              "      fill: #FFFFFF;\n",
              "    }\n",
              "  </style>\n",
              "\n",
              "    <script>\n",
              "      const buttonEl =\n",
              "        document.querySelector('#df-110a718b-792a-4b33-96ed-cbc7ddfe75ae button.colab-df-convert');\n",
              "      buttonEl.style.display =\n",
              "        google.colab.kernel.accessAllowed ? 'block' : 'none';\n",
              "\n",
              "      async function convertToInteractive(key) {\n",
              "        const element = document.querySelector('#df-110a718b-792a-4b33-96ed-cbc7ddfe75ae');\n",
              "        const dataTable =\n",
              "          await google.colab.kernel.invokeFunction('convertToInteractive',\n",
              "                                                    [key], {});\n",
              "        if (!dataTable) return;\n",
              "\n",
              "        const docLinkHtml = 'Like what you see? Visit the ' +\n",
              "          '<a target=\"_blank\" href=https://colab.research.google.com/notebooks/data_table.ipynb>data table notebook</a>'\n",
              "          + ' to learn more about interactive tables.';\n",
              "        element.innerHTML = '';\n",
              "        dataTable['output_type'] = 'display_data';\n",
              "        await google.colab.output.renderOutput(dataTable, element);\n",
              "        const docLink = document.createElement('div');\n",
              "        docLink.innerHTML = docLinkHtml;\n",
              "        element.appendChild(docLink);\n",
              "      }\n",
              "    </script>\n",
              "  </div>\n",
              "\n",
              "\n",
              "<div id=\"df-d622558b-2c11-4d2c-9b68-dd6f4d87f40b\">\n",
              "  <button class=\"colab-df-quickchart\" onclick=\"quickchart('df-d622558b-2c11-4d2c-9b68-dd6f4d87f40b')\"\n",
              "            title=\"Suggest charts\"\n",
              "            style=\"display:none;\">\n",
              "\n",
              "<svg xmlns=\"http://www.w3.org/2000/svg\" height=\"24px\"viewBox=\"0 0 24 24\"\n",
              "     width=\"24px\">\n",
              "    <g>\n",
              "        <path d=\"M19 3H5c-1.1 0-2 .9-2 2v14c0 1.1.9 2 2 2h14c1.1 0 2-.9 2-2V5c0-1.1-.9-2-2-2zM9 17H7v-7h2v7zm4 0h-2V7h2v10zm4 0h-2v-4h2v4z\"/>\n",
              "    </g>\n",
              "</svg>\n",
              "  </button>\n",
              "\n",
              "<style>\n",
              "  .colab-df-quickchart {\n",
              "      --bg-color: #E8F0FE;\n",
              "      --fill-color: #1967D2;\n",
              "      --hover-bg-color: #E2EBFA;\n",
              "      --hover-fill-color: #174EA6;\n",
              "      --disabled-fill-color: #AAA;\n",
              "      --disabled-bg-color: #DDD;\n",
              "  }\n",
              "\n",
              "  [theme=dark] .colab-df-quickchart {\n",
              "      --bg-color: #3B4455;\n",
              "      --fill-color: #D2E3FC;\n",
              "      --hover-bg-color: #434B5C;\n",
              "      --hover-fill-color: #FFFFFF;\n",
              "      --disabled-bg-color: #3B4455;\n",
              "      --disabled-fill-color: #666;\n",
              "  }\n",
              "\n",
              "  .colab-df-quickchart {\n",
              "    background-color: var(--bg-color);\n",
              "    border: none;\n",
              "    border-radius: 50%;\n",
              "    cursor: pointer;\n",
              "    display: none;\n",
              "    fill: var(--fill-color);\n",
              "    height: 32px;\n",
              "    padding: 0;\n",
              "    width: 32px;\n",
              "  }\n",
              "\n",
              "  .colab-df-quickchart:hover {\n",
              "    background-color: var(--hover-bg-color);\n",
              "    box-shadow: 0 1px 2px rgba(60, 64, 67, 0.3), 0 1px 3px 1px rgba(60, 64, 67, 0.15);\n",
              "    fill: var(--button-hover-fill-color);\n",
              "  }\n",
              "\n",
              "  .colab-df-quickchart-complete:disabled,\n",
              "  .colab-df-quickchart-complete:disabled:hover {\n",
              "    background-color: var(--disabled-bg-color);\n",
              "    fill: var(--disabled-fill-color);\n",
              "    box-shadow: none;\n",
              "  }\n",
              "\n",
              "  .colab-df-spinner {\n",
              "    border: 2px solid var(--fill-color);\n",
              "    border-color: transparent;\n",
              "    border-bottom-color: var(--fill-color);\n",
              "    animation:\n",
              "      spin 1s steps(1) infinite;\n",
              "  }\n",
              "\n",
              "  @keyframes spin {\n",
              "    0% {\n",
              "      border-color: transparent;\n",
              "      border-bottom-color: var(--fill-color);\n",
              "      border-left-color: var(--fill-color);\n",
              "    }\n",
              "    20% {\n",
              "      border-color: transparent;\n",
              "      border-left-color: var(--fill-color);\n",
              "      border-top-color: var(--fill-color);\n",
              "    }\n",
              "    30% {\n",
              "      border-color: transparent;\n",
              "      border-left-color: var(--fill-color);\n",
              "      border-top-color: var(--fill-color);\n",
              "      border-right-color: var(--fill-color);\n",
              "    }\n",
              "    40% {\n",
              "      border-color: transparent;\n",
              "      border-right-color: var(--fill-color);\n",
              "      border-top-color: var(--fill-color);\n",
              "    }\n",
              "    60% {\n",
              "      border-color: transparent;\n",
              "      border-right-color: var(--fill-color);\n",
              "    }\n",
              "    80% {\n",
              "      border-color: transparent;\n",
              "      border-right-color: var(--fill-color);\n",
              "      border-bottom-color: var(--fill-color);\n",
              "    }\n",
              "    90% {\n",
              "      border-color: transparent;\n",
              "      border-bottom-color: var(--fill-color);\n",
              "    }\n",
              "  }\n",
              "</style>\n",
              "\n",
              "  <script>\n",
              "    async function quickchart(key) {\n",
              "      const quickchartButtonEl =\n",
              "        document.querySelector('#' + key + ' button');\n",
              "      quickchartButtonEl.disabled = true;  // To prevent multiple clicks.\n",
              "      quickchartButtonEl.classList.add('colab-df-spinner');\n",
              "      try {\n",
              "        const charts = await google.colab.kernel.invokeFunction(\n",
              "            'suggestCharts', [key], {});\n",
              "      } catch (error) {\n",
              "        console.error('Error during call to suggestCharts:', error);\n",
              "      }\n",
              "      quickchartButtonEl.classList.remove('colab-df-spinner');\n",
              "      quickchartButtonEl.classList.add('colab-df-quickchart-complete');\n",
              "    }\n",
              "    (() => {\n",
              "      let quickchartButtonEl =\n",
              "        document.querySelector('#df-d622558b-2c11-4d2c-9b68-dd6f4d87f40b button');\n",
              "      quickchartButtonEl.style.display =\n",
              "        google.colab.kernel.accessAllowed ? 'block' : 'none';\n",
              "    })();\n",
              "  </script>\n",
              "</div>\n",
              "    </div>\n",
              "  </div>\n"
            ],
            "text/plain": [
              "                 word                      synonyms  synonyms_count  \\\n",
              "0        10-разрядный             [десятиразрядный]               1   \n",
              "1        12-разрядный         [двенадцатиразрядный]               1   \n",
              "2       128-разрядный  [стодвадцативосьмиразрядный]               1   \n",
              "3        14-разрядный       [четырнадцатиразрядный]               1   \n",
              "4        16-разрядный        [шестнадцатиразрядный]               1   \n",
              "...               ...                           ...             ...   \n",
              "337355           ётёх    [развалины, брошенный дом]               2   \n",
              "337356        ёухикко                  [инструмент]               1   \n",
              "337357       ёфикатор             [ёделя, ёдельник]               2   \n",
              "337358       ёхнувший                  [сдвинувший]               1   \n",
              "337359           ёхор                       [танец]               1   \n",
              "\n",
              "           word_clear                synonyms_clear  \n",
              "0        10-разрядный             [десятиразрядный]  \n",
              "1        12-разрядный         [двенадцатиразрядный]  \n",
              "2       128-разрядный  [стодвадцативосьмиразрядный]  \n",
              "3        14-разрядный       [четырнадцатиразрядный]  \n",
              "4        16-разрядный        [шестнадцатиразрядный]  \n",
              "...               ...                           ...  \n",
              "337355           ётёх    [развалины, брошенный-дом]  \n",
              "337356        ёухикко                  [инструмент]  \n",
              "337357       ёфикатор             [ёделя, ёдельник]  \n",
              "337358       ёхнувший                  [сдвинувший]  \n",
              "337359           ёхор                       [танец]  \n",
              "\n",
              "[337360 rows x 5 columns]"
            ]
          },
          "execution_count": 12,
          "metadata": {},
          "output_type": "execute_result"
        }
      ],
      "source": [
        "df"
      ]
    },
    {
      "cell_type": "code",
      "execution_count": null,
      "metadata": {
        "id": "Gr35PW5eQiTz"
      },
      "outputs": [],
      "source": [
        "sentences = []\n",
        "for index, row in df.iterrows():\n",
        "    for syn in row['synonyms_clear']:\n",
        "        sentences.append([row['word_clear'], syn])"
      ]
    },
    {
      "cell_type": "code",
      "execution_count": null,
      "metadata": {
        "id": "UmaDfP76Rxcg"
      },
      "outputs": [],
      "source": [
        "df_for_ft = pd.DataFrame(data=sentences, columns=['word1', 'word2'])"
      ]
    },
    {
      "cell_type": "code",
      "execution_count": null,
      "metadata": {
        "id": "znom9ixUR5cb"
      },
      "outputs": [],
      "source": [
        "df_for_ft.to_json('/content/ru_syn_dataset_modft.json')"
      ]
    },
    {
      "cell_type": "markdown",
      "metadata": {
        "id": "e_d-LQy2P6NW"
      },
      "source": [
        "## Reading dataset (df_fot_ft)\n",
        "----"
      ]
    },
    {
      "cell_type": "code",
      "execution_count": null,
      "metadata": {
        "id": "RLP57c9DP5yP"
      },
      "outputs": [],
      "source": [
        "df = pd.read_json('/content/ru_syn_dataset_modft.json')"
      ]
    },
    {
      "cell_type": "code",
      "execution_count": null,
      "metadata": {
        "colab": {
          "base_uri": "https://localhost:8080/",
          "height": 424
        },
        "id": "rEPLHFliRPN8",
        "outputId": "01e38ff9-bd7f-4912-f08c-039b2e58d0c7"
      },
      "outputs": [
        {
          "data": {
            "application/vnd.google.colaboratory.intrinsic+json": {
              "type": "dataframe",
              "variable_name": "df"
            },
            "text/html": [
              "\n",
              "  <div id=\"df-d8dfd137-6e2f-40ed-a9aa-dcee290f6d38\" class=\"colab-df-container\">\n",
              "    <div>\n",
              "<style scoped>\n",
              "    .dataframe tbody tr th:only-of-type {\n",
              "        vertical-align: middle;\n",
              "    }\n",
              "\n",
              "    .dataframe tbody tr th {\n",
              "        vertical-align: top;\n",
              "    }\n",
              "\n",
              "    .dataframe thead th {\n",
              "        text-align: right;\n",
              "    }\n",
              "</style>\n",
              "<table border=\"1\" class=\"dataframe\">\n",
              "  <thead>\n",
              "    <tr style=\"text-align: right;\">\n",
              "      <th></th>\n",
              "      <th>word1</th>\n",
              "      <th>word2</th>\n",
              "    </tr>\n",
              "  </thead>\n",
              "  <tbody>\n",
              "    <tr>\n",
              "      <th>0</th>\n",
              "      <td>10-разрядный</td>\n",
              "      <td>десятиразрядный</td>\n",
              "    </tr>\n",
              "    <tr>\n",
              "      <th>1</th>\n",
              "      <td>12-разрядный</td>\n",
              "      <td>двенадцатиразрядный</td>\n",
              "    </tr>\n",
              "    <tr>\n",
              "      <th>2</th>\n",
              "      <td>128-разрядный</td>\n",
              "      <td>стодвадцативосьмиразрядный</td>\n",
              "    </tr>\n",
              "    <tr>\n",
              "      <th>3</th>\n",
              "      <td>14-разрядный</td>\n",
              "      <td>четырнадцатиразрядный</td>\n",
              "    </tr>\n",
              "    <tr>\n",
              "      <th>4</th>\n",
              "      <td>16-разрядный</td>\n",
              "      <td>шестнадцатиразрядный</td>\n",
              "    </tr>\n",
              "    <tr>\n",
              "      <th>...</th>\n",
              "      <td>...</td>\n",
              "      <td>...</td>\n",
              "    </tr>\n",
              "    <tr>\n",
              "      <th>3826501</th>\n",
              "      <td>ёухикко</td>\n",
              "      <td>инструмент</td>\n",
              "    </tr>\n",
              "    <tr>\n",
              "      <th>3826502</th>\n",
              "      <td>ёфикатор</td>\n",
              "      <td>ёделя</td>\n",
              "    </tr>\n",
              "    <tr>\n",
              "      <th>3826503</th>\n",
              "      <td>ёфикатор</td>\n",
              "      <td>ёдельник</td>\n",
              "    </tr>\n",
              "    <tr>\n",
              "      <th>3826504</th>\n",
              "      <td>ёхнувший</td>\n",
              "      <td>сдвинувший</td>\n",
              "    </tr>\n",
              "    <tr>\n",
              "      <th>3826505</th>\n",
              "      <td>ёхор</td>\n",
              "      <td>танец</td>\n",
              "    </tr>\n",
              "  </tbody>\n",
              "</table>\n",
              "<p>3826506 rows × 2 columns</p>\n",
              "</div>\n",
              "    <div class=\"colab-df-buttons\">\n",
              "\n",
              "  <div class=\"colab-df-container\">\n",
              "    <button class=\"colab-df-convert\" onclick=\"convertToInteractive('df-d8dfd137-6e2f-40ed-a9aa-dcee290f6d38')\"\n",
              "            title=\"Convert this dataframe to an interactive table.\"\n",
              "            style=\"display:none;\">\n",
              "\n",
              "  <svg xmlns=\"http://www.w3.org/2000/svg\" height=\"24px\" viewBox=\"0 -960 960 960\">\n",
              "    <path d=\"M120-120v-720h720v720H120Zm60-500h600v-160H180v160Zm220 220h160v-160H400v160Zm0 220h160v-160H400v160ZM180-400h160v-160H180v160Zm440 0h160v-160H620v160ZM180-180h160v-160H180v160Zm440 0h160v-160H620v160Z\"/>\n",
              "  </svg>\n",
              "    </button>\n",
              "\n",
              "  <style>\n",
              "    .colab-df-container {\n",
              "      display:flex;\n",
              "      gap: 12px;\n",
              "    }\n",
              "\n",
              "    .colab-df-convert {\n",
              "      background-color: #E8F0FE;\n",
              "      border: none;\n",
              "      border-radius: 50%;\n",
              "      cursor: pointer;\n",
              "      display: none;\n",
              "      fill: #1967D2;\n",
              "      height: 32px;\n",
              "      padding: 0 0 0 0;\n",
              "      width: 32px;\n",
              "    }\n",
              "\n",
              "    .colab-df-convert:hover {\n",
              "      background-color: #E2EBFA;\n",
              "      box-shadow: 0px 1px 2px rgba(60, 64, 67, 0.3), 0px 1px 3px 1px rgba(60, 64, 67, 0.15);\n",
              "      fill: #174EA6;\n",
              "    }\n",
              "\n",
              "    .colab-df-buttons div {\n",
              "      margin-bottom: 4px;\n",
              "    }\n",
              "\n",
              "    [theme=dark] .colab-df-convert {\n",
              "      background-color: #3B4455;\n",
              "      fill: #D2E3FC;\n",
              "    }\n",
              "\n",
              "    [theme=dark] .colab-df-convert:hover {\n",
              "      background-color: #434B5C;\n",
              "      box-shadow: 0px 1px 3px 1px rgba(0, 0, 0, 0.15);\n",
              "      filter: drop-shadow(0px 1px 2px rgba(0, 0, 0, 0.3));\n",
              "      fill: #FFFFFF;\n",
              "    }\n",
              "  </style>\n",
              "\n",
              "    <script>\n",
              "      const buttonEl =\n",
              "        document.querySelector('#df-d8dfd137-6e2f-40ed-a9aa-dcee290f6d38 button.colab-df-convert');\n",
              "      buttonEl.style.display =\n",
              "        google.colab.kernel.accessAllowed ? 'block' : 'none';\n",
              "\n",
              "      async function convertToInteractive(key) {\n",
              "        const element = document.querySelector('#df-d8dfd137-6e2f-40ed-a9aa-dcee290f6d38');\n",
              "        const dataTable =\n",
              "          await google.colab.kernel.invokeFunction('convertToInteractive',\n",
              "                                                    [key], {});\n",
              "        if (!dataTable) return;\n",
              "\n",
              "        const docLinkHtml = 'Like what you see? Visit the ' +\n",
              "          '<a target=\"_blank\" href=https://colab.research.google.com/notebooks/data_table.ipynb>data table notebook</a>'\n",
              "          + ' to learn more about interactive tables.';\n",
              "        element.innerHTML = '';\n",
              "        dataTable['output_type'] = 'display_data';\n",
              "        await google.colab.output.renderOutput(dataTable, element);\n",
              "        const docLink = document.createElement('div');\n",
              "        docLink.innerHTML = docLinkHtml;\n",
              "        element.appendChild(docLink);\n",
              "      }\n",
              "    </script>\n",
              "  </div>\n",
              "\n",
              "\n",
              "<div id=\"df-54870dd1-c5fb-4765-be1c-a7922489c0a7\">\n",
              "  <button class=\"colab-df-quickchart\" onclick=\"quickchart('df-54870dd1-c5fb-4765-be1c-a7922489c0a7')\"\n",
              "            title=\"Suggest charts\"\n",
              "            style=\"display:none;\">\n",
              "\n",
              "<svg xmlns=\"http://www.w3.org/2000/svg\" height=\"24px\"viewBox=\"0 0 24 24\"\n",
              "     width=\"24px\">\n",
              "    <g>\n",
              "        <path d=\"M19 3H5c-1.1 0-2 .9-2 2v14c0 1.1.9 2 2 2h14c1.1 0 2-.9 2-2V5c0-1.1-.9-2-2-2zM9 17H7v-7h2v7zm4 0h-2V7h2v10zm4 0h-2v-4h2v4z\"/>\n",
              "    </g>\n",
              "</svg>\n",
              "  </button>\n",
              "\n",
              "<style>\n",
              "  .colab-df-quickchart {\n",
              "      --bg-color: #E8F0FE;\n",
              "      --fill-color: #1967D2;\n",
              "      --hover-bg-color: #E2EBFA;\n",
              "      --hover-fill-color: #174EA6;\n",
              "      --disabled-fill-color: #AAA;\n",
              "      --disabled-bg-color: #DDD;\n",
              "  }\n",
              "\n",
              "  [theme=dark] .colab-df-quickchart {\n",
              "      --bg-color: #3B4455;\n",
              "      --fill-color: #D2E3FC;\n",
              "      --hover-bg-color: #434B5C;\n",
              "      --hover-fill-color: #FFFFFF;\n",
              "      --disabled-bg-color: #3B4455;\n",
              "      --disabled-fill-color: #666;\n",
              "  }\n",
              "\n",
              "  .colab-df-quickchart {\n",
              "    background-color: var(--bg-color);\n",
              "    border: none;\n",
              "    border-radius: 50%;\n",
              "    cursor: pointer;\n",
              "    display: none;\n",
              "    fill: var(--fill-color);\n",
              "    height: 32px;\n",
              "    padding: 0;\n",
              "    width: 32px;\n",
              "  }\n",
              "\n",
              "  .colab-df-quickchart:hover {\n",
              "    background-color: var(--hover-bg-color);\n",
              "    box-shadow: 0 1px 2px rgba(60, 64, 67, 0.3), 0 1px 3px 1px rgba(60, 64, 67, 0.15);\n",
              "    fill: var(--button-hover-fill-color);\n",
              "  }\n",
              "\n",
              "  .colab-df-quickchart-complete:disabled,\n",
              "  .colab-df-quickchart-complete:disabled:hover {\n",
              "    background-color: var(--disabled-bg-color);\n",
              "    fill: var(--disabled-fill-color);\n",
              "    box-shadow: none;\n",
              "  }\n",
              "\n",
              "  .colab-df-spinner {\n",
              "    border: 2px solid var(--fill-color);\n",
              "    border-color: transparent;\n",
              "    border-bottom-color: var(--fill-color);\n",
              "    animation:\n",
              "      spin 1s steps(1) infinite;\n",
              "  }\n",
              "\n",
              "  @keyframes spin {\n",
              "    0% {\n",
              "      border-color: transparent;\n",
              "      border-bottom-color: var(--fill-color);\n",
              "      border-left-color: var(--fill-color);\n",
              "    }\n",
              "    20% {\n",
              "      border-color: transparent;\n",
              "      border-left-color: var(--fill-color);\n",
              "      border-top-color: var(--fill-color);\n",
              "    }\n",
              "    30% {\n",
              "      border-color: transparent;\n",
              "      border-left-color: var(--fill-color);\n",
              "      border-top-color: var(--fill-color);\n",
              "      border-right-color: var(--fill-color);\n",
              "    }\n",
              "    40% {\n",
              "      border-color: transparent;\n",
              "      border-right-color: var(--fill-color);\n",
              "      border-top-color: var(--fill-color);\n",
              "    }\n",
              "    60% {\n",
              "      border-color: transparent;\n",
              "      border-right-color: var(--fill-color);\n",
              "    }\n",
              "    80% {\n",
              "      border-color: transparent;\n",
              "      border-right-color: var(--fill-color);\n",
              "      border-bottom-color: var(--fill-color);\n",
              "    }\n",
              "    90% {\n",
              "      border-color: transparent;\n",
              "      border-bottom-color: var(--fill-color);\n",
              "    }\n",
              "  }\n",
              "</style>\n",
              "\n",
              "  <script>\n",
              "    async function quickchart(key) {\n",
              "      const quickchartButtonEl =\n",
              "        document.querySelector('#' + key + ' button');\n",
              "      quickchartButtonEl.disabled = true;  // To prevent multiple clicks.\n",
              "      quickchartButtonEl.classList.add('colab-df-spinner');\n",
              "      try {\n",
              "        const charts = await google.colab.kernel.invokeFunction(\n",
              "            'suggestCharts', [key], {});\n",
              "      } catch (error) {\n",
              "        console.error('Error during call to suggestCharts:', error);\n",
              "      }\n",
              "      quickchartButtonEl.classList.remove('colab-df-spinner');\n",
              "      quickchartButtonEl.classList.add('colab-df-quickchart-complete');\n",
              "    }\n",
              "    (() => {\n",
              "      let quickchartButtonEl =\n",
              "        document.querySelector('#df-54870dd1-c5fb-4765-be1c-a7922489c0a7 button');\n",
              "      quickchartButtonEl.style.display =\n",
              "        google.colab.kernel.accessAllowed ? 'block' : 'none';\n",
              "    })();\n",
              "  </script>\n",
              "</div>\n",
              "    </div>\n",
              "  </div>\n"
            ],
            "text/plain": [
              "                 word1                       word2\n",
              "0         10-разрядный             десятиразрядный\n",
              "1         12-разрядный         двенадцатиразрядный\n",
              "2        128-разрядный  стодвадцативосьмиразрядный\n",
              "3         14-разрядный       четырнадцатиразрядный\n",
              "4         16-разрядный        шестнадцатиразрядный\n",
              "...                ...                         ...\n",
              "3826501        ёухикко                  инструмент\n",
              "3826502       ёфикатор                       ёделя\n",
              "3826503       ёфикатор                    ёдельник\n",
              "3826504       ёхнувший                  сдвинувший\n",
              "3826505           ёхор                       танец\n",
              "\n",
              "[3826506 rows x 2 columns]"
            ]
          },
          "execution_count": 7,
          "metadata": {},
          "output_type": "execute_result"
        }
      ],
      "source": [
        "df"
      ]
    },
    {
      "cell_type": "code",
      "execution_count": null,
      "metadata": {
        "id": "f_yhTPgTSlF8"
      },
      "outputs": [],
      "source": [
        "sentences = [[row['word1'], row['word2']] for _, row in df.iterrows()]"
      ]
    },
    {
      "cell_type": "markdown",
      "metadata": {
        "id": "6FNxwux2SXXI"
      },
      "source": [
        "## FastText model training\n",
        "----------\n"
      ]
    },
    {
      "cell_type": "code",
      "execution_count": null,
      "metadata": {
        "id": "WppRw2iXSW9e"
      },
      "outputs": [],
      "source": [
        "model = FastText(sentences=None,\n",
        "                 vector_size=150,\n",
        "                 window=2,\n",
        "                 min_count=1,\n",
        "                 workers=15,\n",
        "                 sg=1,\n",
        "                 hs=1,\n",
        "                 negative=0,\n",
        "                 min_n=2,\n",
        "                 max_n=6)"
      ]
    },
    {
      "cell_type": "code",
      "execution_count": null,
      "metadata": {
        "id": "glIi7U53ZClg"
      },
      "outputs": [],
      "source": [
        "random.seed(42)\n",
        "random.shuffle(sentences)"
      ]
    },
    {
      "cell_type": "code",
      "execution_count": null,
      "metadata": {
        "id": "7g82DeK7Y5F2"
      },
      "outputs": [],
      "source": [
        "model.build_vocab(sentences, progress_per=100000)"
      ]
    },
    {
      "cell_type": "code",
      "execution_count": null,
      "metadata": {
        "colab": {
          "base_uri": "https://localhost:8080/"
        },
        "id": "yQc2KxUqalrM",
        "outputId": "4bb481fd-0730-4ee7-fccb-7633b7a791b4"
      },
      "outputs": [
        {
          "name": "stdout",
          "output_type": "stream",
          "text": [
            "CPU times: user 3h 13min 30s, sys: 1min 16s, total: 3h 14min 46s\n",
            "Wall time: 2h 54min 31s\n"
          ]
        },
        {
          "data": {
            "text/plain": [
              "(382650600, 382650600)"
            ]
          },
          "execution_count": 200,
          "metadata": {},
          "output_type": "execute_result"
        }
      ],
      "source": [
        "%%time\n",
        "\n",
        "model.train(sentences,\n",
        "            total_examples=len(sentences),\n",
        "            epochs=50,\n",
        "            report_delay=10.0)"
      ]
    },
    {
      "cell_type": "markdown",
      "metadata": {
        "id": "DKjYWUOXz7UO"
      },
      "source": [
        "## Testing model\n",
        "-----"
      ]
    },
    {
      "cell_type": "code",
      "execution_count": null,
      "metadata": {
        "colab": {
          "base_uri": "https://localhost:8080/"
        },
        "id": "1fGwXzdw1BjZ",
        "outputId": "9703fbff-86e9-4968-d24c-27647d5769de"
      },
      "outputs": [
        {
          "data": {
            "text/plain": [
              "[('перспективы', 0.8648058772087097),\n",
              " ('европерспектива', 0.732286274433136),\n",
              " ('перспективность', 0.6640074849128723),\n",
              " ('перспективно', 0.652469277381897),\n",
              " ('перспективная-оценка', 0.6476495862007141),\n",
              " ('перспекс', 0.6435973048210144),\n",
              " ('перспективный', 0.6313502192497253),\n",
              " ('в-перспективе', 0.6226367354393005),\n",
              " ('перспективнейший', 0.614008903503418),\n",
              " ('среднесрочная-перспектива', 0.6020455956459045)]"
            ]
          },
          "execution_count": 221,
          "metadata": {},
          "output_type": "execute_result"
        }
      ],
      "source": [
        "model.wv.most_similar('перспектива', topn=10)"
      ]
    },
    {
      "cell_type": "code",
      "execution_count": null,
      "metadata": {
        "id": "FgvjdVfJcRfF"
      },
      "outputs": [],
      "source": [
        "model.save('/content/synonyms_ft.model2')"
      ]
    },
    {
      "cell_type": "code",
      "execution_count": null,
      "metadata": {
        "id": "AAXFNl1bUeax"
      },
      "outputs": [],
      "source": [
        "words = ['деньги', 'задачки', 'деньжата', 'карьера', 'новые-знания', 'новые-навыки', 'система-обучения', 'коллеги', 'наставник', 'зарплата', 'задачи', 'область-работы',\n",
        "         'различные-проекты', 'карьерный-рост', 'обстановка', 'атмосфера', 'коллектив', 'мероприятия', 'корпоративы',\n",
        "        'зп', 'зарплата', 'деньги', 'комфорт', 'статус', 'статусность', 'престиж', 'развитие', 'курсы', 'обучение', 'интересные-задачи', 'профессиональный-рост',\n",
        "         'обучение', 'карьера', 'карьерный-рост', 'перспективы', 'стабильность']"
      ]
    },
    {
      "cell_type": "code",
      "execution_count": null,
      "metadata": {
        "colab": {
          "base_uri": "https://localhost:8080/"
        },
        "id": "_lAWq_H3sMF7",
        "outputId": "61ac0731-525c-4253-9d83-b9dc29a41d4a"
      },
      "outputs": [
        {
          "data": {
            "text/plain": [
              "[(0.87133694, 'задачи'),\n",
              " (0.8077354, 'задачки'),\n",
              " (0.77999717, 'интересные-задачи')]"
            ]
          },
          "execution_count": 232,
          "metadata": {},
          "output_type": "execute_result"
        }
      ],
      "source": [
        "model.wv.rank_by_centrality(['задачки', 'задачи', 'интересные-задачи'])"
      ]
    },
    {
      "cell_type": "code",
      "execution_count": null,
      "metadata": {
        "id": "P8Hb-RR6WF6G"
      },
      "outputs": [],
      "source": [
        "vec_list = [model.wv[w] for w in words]"
      ]
    },
    {
      "cell_type": "code",
      "execution_count": null,
      "metadata": {
        "id": "o7LLbTAtWMi1"
      },
      "outputs": [],
      "source": [
        "import sklearn\n",
        "from sklearn.cluster import DBSCAN\n",
        "import numpy as np"
      ]
    },
    {
      "cell_type": "code",
      "execution_count": null,
      "metadata": {
        "id": "PFQ5Kj8HWWpO"
      },
      "outputs": [],
      "source": [
        "vec_list_ = np.array(vec_list)"
      ]
    },
    {
      "cell_type": "code",
      "execution_count": null,
      "metadata": {
        "id": "1T4CpFrSWsd3"
      },
      "outputs": [],
      "source": [
        "clustering = DBSCAN(eps=0.5, min_samples=2, metric='cosine', algorithm='auto').fit(vec_list_)"
      ]
    },
    {
      "cell_type": "code",
      "execution_count": null,
      "metadata": {
        "id": "AuTlLkkZZcDu"
      },
      "outputs": [],
      "source": [
        "labels = clustering.labels_"
      ]
    },
    {
      "cell_type": "code",
      "execution_count": null,
      "metadata": {
        "id": "dCoKS1Jod8Qn"
      },
      "outputs": [],
      "source": [
        "words_np = np.array(words)"
      ]
    },
    {
      "cell_type": "code",
      "execution_count": null,
      "metadata": {
        "colab": {
          "base_uri": "https://localhost:8080/"
        },
        "id": "k7uqB90ueBxg",
        "outputId": "e9730e27-254d-42d4-de34-815984c441ca"
      },
      "outputs": [
        {
          "data": {
            "text/plain": [
              "array(['деньги', 'деньжата', 'деньги'], dtype='<U21')"
            ]
          },
          "execution_count": 77,
          "metadata": {},
          "output_type": "execute_result"
        }
      ],
      "source": [
        "words_np[np.where(labels==0)[0]]"
      ]
    },
    {
      "cell_type": "code",
      "execution_count": null,
      "metadata": {
        "id": "1sgcYOpKZqAV"
      },
      "outputs": [],
      "source": [
        "cloud = []\n",
        "for label in np.unique(labels):\n",
        "    cloud.append(words_np[np.where(labels == label)[0]])"
      ]
    },
    {
      "cell_type": "code",
      "execution_count": null,
      "metadata": {
        "colab": {
          "base_uri": "https://localhost:8080/"
        },
        "id": "kswKVSXgedhe",
        "outputId": "0c70d996-df12-42f1-b96a-eef75e4e71b9"
      },
      "outputs": [
        {
          "data": {
            "text/plain": [
              "[array(['наставник', 'область-работы', 'различные-проекты', 'атмосфера',\n",
              "        'мероприятия', 'корпоративы', 'зп', 'комфорт', 'курсы',\n",
              "        'перспективы'], dtype='<U21'),\n",
              " array(['деньги', 'деньжата', 'деньги'], dtype='<U21'),\n",
              " array(['задачки', 'задачи', 'интересные-задачи'], dtype='<U21'),\n",
              " array(['карьера', 'карьера'], dtype='<U21'),\n",
              " array(['новые-знания', 'новые-навыки'], dtype='<U21'),\n",
              " array(['система-обучения', 'обстановка', 'статус', 'статусность',\n",
              "        'престиж', 'развитие', 'обучение', 'обучение', 'стабильность'],\n",
              "       dtype='<U21'),\n",
              " array(['коллеги', 'коллектив'], dtype='<U21'),\n",
              " array(['зарплата', 'зарплата'], dtype='<U21'),\n",
              " array(['карьерный-рост', 'профессиональный-рост', 'карьерный-рост'],\n",
              "       dtype='<U21')]"
            ]
          },
          "execution_count": 219,
          "metadata": {},
          "output_type": "execute_result"
        }
      ],
      "source": [
        "cloud"
      ]
    }
  ],
  "metadata": {
    "colab": {
      "provenance": []
    },
    "kernelspec": {
      "display_name": "Python 3",
      "name": "python3"
    },
    "language_info": {
      "name": "python"
    }
  },
  "nbformat": 4,
  "nbformat_minor": 0
}
