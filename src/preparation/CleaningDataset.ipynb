{
 "cells": [
  {
   "cell_type": "code",
   "execution_count": 1,
   "metadata": {},
   "outputs": [],
   "source": [
    "import pandas as pd\n",
    "import numpy as np\n",
    "import tqdm\n",
    "from tqdm import tqdm"
   ]
  },
  {
   "cell_type": "code",
   "execution_count": 103,
   "metadata": {},
   "outputs": [],
   "source": [
    "fpath = 'D:\\AtomicHackData\\\\ru_syn_dataset.json'"
   ]
  },
  {
   "cell_type": "code",
   "execution_count": 104,
   "metadata": {},
   "outputs": [],
   "source": [
    "dataset = pd.read_json(fpath)"
   ]
  },
  {
   "cell_type": "markdown",
   "metadata": {},
   "source": [
    "Dataset include words without any synonyms"
   ]
  },
  {
   "cell_type": "code",
   "execution_count": 116,
   "metadata": {},
   "outputs": [],
   "source": [
    "dataset1 = dataset[dataset['synonyms_count'] >= 1].copy(deep=True)"
   ]
  },
  {
   "cell_type": "code",
   "execution_count": 125,
   "metadata": {},
   "outputs": [],
   "source": [
    "dataset1.reset_index(drop=True, inplace=True)"
   ]
  },
  {
   "cell_type": "code",
   "execution_count": 128,
   "metadata": {},
   "outputs": [],
   "source": [
    "dataset1['word_clear'] = [''] * dataset1.shape[0]\n",
    "dataset1['synonyms_clear'] = [''] * dataset1.shape[0]"
   ]
  },
  {
   "cell_type": "code",
   "execution_count": 138,
   "metadata": {},
   "outputs": [],
   "source": [
    "markings = {'(прост.)', '(устар.)', '(офиц.)', '(книжн.)', '(высок.)', '(разг.)', '(бран.)', '(шутл.)', '(обл.)', '(спец.)'}"
   ]
  },
  {
   "cell_type": "code",
   "execution_count": 139,
   "metadata": {},
   "outputs": [],
   "source": [
    "litter = {'чегокого л', 'чегокого н', 'когочего л', 'когочего н', 'чегокого-л', 'чегокого-н', 'когочего-л', 'когочего-н', 'чего л', 'чего н', 'кого л', 'кого н', 'чего-л', 'чего-н', 'кого-л', 'кого-н',\\\n",
    "    'чтокто л', 'чтокто н', 'кточто л', 'кточто н', 'чтокто-л', 'чтокто-н', 'кточто-л', 'кточто-н', 'что л', 'что н', 'кто л', 'кто н', 'что-л', 'что-н' 'кто-л', 'кто-н',\\\n",
    "    'чемукому л', 'чемукому н','комучему л','комучему н','чемукому-л','чемукому-н','комучему-л','комучему-н','чему л','чему н','кому л','кому н','чему-л','чему-н','кому-л','кому-н',\\\n",
    "    'чтокого л','чтокого н','когочто л', 'когочто н', 'чтокого-н', 'чтокого-л', 'когочто-л', 'когочто-н',\\\n",
    "    'чемкем л', 'чемкем н', 'кемчем л', 'кемчем н', 'чемкем-л', 'чемкем-н', 'кемчем-л', 'кемчем-н', 'чем л', 'чем н', 'кем л', 'кем н', 'чем-л', 'чем-н', 'кем-л', 'кем-н',\\\n",
    "    'чемком л', 'чемком н', 'комчем л', 'комчем н', 'чемком-л', 'чемком-н', 'комчем-л', 'комчем-н', 'ком л', 'ком н', 'ком-л', 'ком-н',\\\n",
    "    'чёмком л', 'чёмком н', 'комчём л', 'комчём н', 'чёмком-л', 'чёмком-н', 'комчём-л', 'комчём-н', 'чём л', 'чём н', 'чём-л', 'чём-н'}"
   ]
  },
  {
   "cell_type": "markdown",
   "metadata": {},
   "source": [
    "# Cleaning word"
   ]
  },
  {
   "cell_type": "code",
   "execution_count": 140,
   "metadata": {},
   "outputs": [],
   "source": [
    "import re"
   ]
  },
  {
   "cell_type": "code",
   "execution_count": 141,
   "metadata": {},
   "outputs": [],
   "source": [
    "def word_cleaning(markings: set, litter: set, word: str) -> str:\n",
    "    word = word.lower().strip()\n",
    "    split_word = word.split()\n",
    "    for lexem in split_word:\n",
    "        if lexem in markings:\n",
    "            split_word.remove(lexem)\n",
    "    word1 = ' '.join(split_word)\n",
    "    word_wo_punct = re.sub(r'[^\\w\\s-]', '', word1)\n",
    "    split_word1 = word_wo_punct.split()\n",
    "    for lexem in split_word1:\n",
    "        if lexem in litter:\n",
    "            split_word1.remove(lexem)\n",
    "    res_word = '-'.join(split_word1)\n",
    "    return res_word"
   ]
  },
  {
   "cell_type": "code",
   "execution_count": 146,
   "metadata": {},
   "outputs": [],
   "source": [
    "def synonyms_cleaning(markings: set, litter: str, syn_list: list) -> list:\n",
    "    clear_syn_list = []\n",
    "    for syn in syn_list:\n",
    "        clear_syn_list.append(word_cleaning(markings, litter, syn))\n",
    "    return clear_syn_list"
   ]
  },
  {
   "cell_type": "code",
   "execution_count": 147,
   "metadata": {},
   "outputs": [
    {
     "name": "stderr",
     "output_type": "stream",
     "text": [
      "337360it [00:33, 10074.33it/s]\n"
     ]
    }
   ],
   "source": [
    "for index, row in tqdm(dataset1.iterrows()):\n",
    "    dataset1.at[index, 'word_clear'] = word_cleaning(markings, litter, row['word'])\n",
    "    dataset1.at[index, 'synonyms_clear'] = synonyms_cleaning(markings, litter, row['synonyms'])"
   ]
  },
  {
   "cell_type": "code",
   "execution_count": 156,
   "metadata": {},
   "outputs": [],
   "source": [
    "df = dataset1.sort_values(by=['word_clear']).copy(deep=True)"
   ]
  },
  {
   "cell_type": "code",
   "execution_count": 4,
   "metadata": {},
   "outputs": [],
   "source": [
    "df.reset_index(drop=True, inplace=True)"
   ]
  },
  {
   "cell_type": "code",
   "execution_count": 5,
   "metadata": {},
   "outputs": [
    {
     "data": {
      "text/html": [
       "<div>\n",
       "<style scoped>\n",
       "    .dataframe tbody tr th:only-of-type {\n",
       "        vertical-align: middle;\n",
       "    }\n",
       "\n",
       "    .dataframe tbody tr th {\n",
       "        vertical-align: top;\n",
       "    }\n",
       "\n",
       "    .dataframe thead th {\n",
       "        text-align: right;\n",
       "    }\n",
       "</style>\n",
       "<table border=\"1\" class=\"dataframe\">\n",
       "  <thead>\n",
       "    <tr style=\"text-align: right;\">\n",
       "      <th></th>\n",
       "      <th>word</th>\n",
       "      <th>synonyms</th>\n",
       "      <th>synonyms_count</th>\n",
       "      <th>word_clear</th>\n",
       "      <th>synonyms_clear</th>\n",
       "    </tr>\n",
       "  </thead>\n",
       "  <tbody>\n",
       "    <tr>\n",
       "      <th>0</th>\n",
       "      <td>10-разрядный</td>\n",
       "      <td>[десятиразрядный]</td>\n",
       "      <td>1</td>\n",
       "      <td>10-разрядный</td>\n",
       "      <td>[десятиразрядный]</td>\n",
       "    </tr>\n",
       "    <tr>\n",
       "      <th>1</th>\n",
       "      <td>12-разрядный</td>\n",
       "      <td>[двенадцатиразрядный]</td>\n",
       "      <td>1</td>\n",
       "      <td>12-разрядный</td>\n",
       "      <td>[двенадцатиразрядный]</td>\n",
       "    </tr>\n",
       "    <tr>\n",
       "      <th>2</th>\n",
       "      <td>128-разрядный</td>\n",
       "      <td>[стодвадцативосьмиразрядный]</td>\n",
       "      <td>1</td>\n",
       "      <td>128-разрядный</td>\n",
       "      <td>[стодвадцативосьмиразрядный]</td>\n",
       "    </tr>\n",
       "    <tr>\n",
       "      <th>3</th>\n",
       "      <td>14-разрядный</td>\n",
       "      <td>[четырнадцатиразрядный]</td>\n",
       "      <td>1</td>\n",
       "      <td>14-разрядный</td>\n",
       "      <td>[четырнадцатиразрядный]</td>\n",
       "    </tr>\n",
       "    <tr>\n",
       "      <th>4</th>\n",
       "      <td>16-разрядный</td>\n",
       "      <td>[шестнадцатиразрядный]</td>\n",
       "      <td>1</td>\n",
       "      <td>16-разрядный</td>\n",
       "      <td>[шестнадцатиразрядный]</td>\n",
       "    </tr>\n",
       "    <tr>\n",
       "      <th>...</th>\n",
       "      <td>...</td>\n",
       "      <td>...</td>\n",
       "      <td>...</td>\n",
       "      <td>...</td>\n",
       "      <td>...</td>\n",
       "    </tr>\n",
       "    <tr>\n",
       "      <th>337355</th>\n",
       "      <td>ётёх</td>\n",
       "      <td>[развалины, брошенный дом]</td>\n",
       "      <td>2</td>\n",
       "      <td>ётёх</td>\n",
       "      <td>[развалины, брошенный-дом]</td>\n",
       "    </tr>\n",
       "    <tr>\n",
       "      <th>337356</th>\n",
       "      <td>ёухикко</td>\n",
       "      <td>[инструмент]</td>\n",
       "      <td>1</td>\n",
       "      <td>ёухикко</td>\n",
       "      <td>[инструмент]</td>\n",
       "    </tr>\n",
       "    <tr>\n",
       "      <th>337357</th>\n",
       "      <td>ёфикатор</td>\n",
       "      <td>[ёделя, ёдельник]</td>\n",
       "      <td>2</td>\n",
       "      <td>ёфикатор</td>\n",
       "      <td>[ёделя, ёдельник]</td>\n",
       "    </tr>\n",
       "    <tr>\n",
       "      <th>337358</th>\n",
       "      <td>ёхнувший</td>\n",
       "      <td>[сдвинувший]</td>\n",
       "      <td>1</td>\n",
       "      <td>ёхнувший</td>\n",
       "      <td>[сдвинувший]</td>\n",
       "    </tr>\n",
       "    <tr>\n",
       "      <th>337359</th>\n",
       "      <td>ёхор</td>\n",
       "      <td>[танец]</td>\n",
       "      <td>1</td>\n",
       "      <td>ёхор</td>\n",
       "      <td>[танец]</td>\n",
       "    </tr>\n",
       "  </tbody>\n",
       "</table>\n",
       "<p>337360 rows × 5 columns</p>\n",
       "</div>"
      ],
      "text/plain": [
       "                 word                      synonyms  synonyms_count  \\\n",
       "0        10-разрядный             [десятиразрядный]               1   \n",
       "1        12-разрядный         [двенадцатиразрядный]               1   \n",
       "2       128-разрядный  [стодвадцативосьмиразрядный]               1   \n",
       "3        14-разрядный       [четырнадцатиразрядный]               1   \n",
       "4        16-разрядный        [шестнадцатиразрядный]               1   \n",
       "...               ...                           ...             ...   \n",
       "337355           ётёх    [развалины, брошенный дом]               2   \n",
       "337356        ёухикко                  [инструмент]               1   \n",
       "337357       ёфикатор             [ёделя, ёдельник]               2   \n",
       "337358       ёхнувший                  [сдвинувший]               1   \n",
       "337359           ёхор                       [танец]               1   \n",
       "\n",
       "           word_clear                synonyms_clear  \n",
       "0        10-разрядный             [десятиразрядный]  \n",
       "1        12-разрядный         [двенадцатиразрядный]  \n",
       "2       128-разрядный  [стодвадцативосьмиразрядный]  \n",
       "3        14-разрядный       [четырнадцатиразрядный]  \n",
       "4        16-разрядный        [шестнадцатиразрядный]  \n",
       "...               ...                           ...  \n",
       "337355           ётёх    [развалины, брошенный-дом]  \n",
       "337356        ёухикко                  [инструмент]  \n",
       "337357       ёфикатор             [ёделя, ёдельник]  \n",
       "337358       ёхнувший                  [сдвинувший]  \n",
       "337359           ёхор                       [танец]  \n",
       "\n",
       "[337360 rows x 5 columns]"
      ]
     },
     "execution_count": 5,
     "metadata": {},
     "output_type": "execute_result"
    }
   ],
   "source": [
    "df"
   ]
  },
  {
   "cell_type": "code",
   "execution_count": 6,
   "metadata": {},
   "outputs": [],
   "source": [
    "df.to_json('D:\\AtomicHackData\\\\ru_syn_dataset_mod1.json', force_ascii=False)"
   ]
  }
 ],
 "metadata": {
  "kernelspec": {
   "display_name": "Python 3",
   "language": "python",
   "name": "python3"
  },
  "language_info": {
   "codemirror_mode": {
    "name": "ipython",
    "version": 3
   },
   "file_extension": ".py",
   "mimetype": "text/x-python",
   "name": "python",
   "nbconvert_exporter": "python",
   "pygments_lexer": "ipython3",
   "version": "3.11.5"
  }
 },
 "nbformat": 4,
 "nbformat_minor": 2
}
